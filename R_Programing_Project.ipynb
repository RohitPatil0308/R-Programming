{
  "nbformat": 4,
  "nbformat_minor": 0,
  "metadata": {
    "colab": {
      "provenance": [],
      "authorship_tag": "ABX9TyNvbZ7PR0N0nRkjIIKQWfWQ",
      "include_colab_link": true
    },
    "kernelspec": {
      "name": "ir",
      "display_name": "R"
    },
    "language_info": {
      "name": "R"
    }
  },
  "cells": [
    {
      "cell_type": "markdown",
      "metadata": {
        "id": "view-in-github",
        "colab_type": "text"
      },
      "source": [
        "<a href=\"https://colab.research.google.com/github/RohitPatil0308/R-Programming/blob/main/R_Programing_Project.ipynb\" target=\"_parent\"><img src=\"https://colab.research.google.com/assets/colab-badge.svg\" alt=\"Open In Colab\"/></a>"
      ]
    },
    {
      "cell_type": "markdown",
      "source": [
        "**Load the Student dataset**"
      ],
      "metadata": {
        "id": "sJJR0A1F_jo7"
      }
    },
    {
      "cell_type": "code",
      "execution_count": 23,
      "metadata": {
        "id": "s25ddoQ-WNlh"
      },
      "outputs": [],
      "source": [
        "data <- read.csv(\"/content/Students.csv\")\n"
      ]
    },
    {
      "cell_type": "markdown",
      "source": [
        "**To get Top rows**"
      ],
      "metadata": {
        "id": "aJZIqRWi_qoT"
      }
    },
    {
      "cell_type": "code",
      "source": [
        "head(data)"
      ],
      "metadata": {
        "colab": {
          "base_uri": "https://localhost:8080/",
          "height": 286
        },
        "id": "kndy7He9WOdW",
        "outputId": "7bd86b12-5779-43b5-9580-9b54e59e7ec6"
      },
      "execution_count": 4,
      "outputs": [
        {
          "output_type": "display_data",
          "data": {
            "text/html": [
              "<table class=\"dataframe\">\n",
              "<caption>A data.frame: 6 × 7</caption>\n",
              "<thead>\n",
              "\t<tr><th></th><th scope=col>Rank</th><th scope=col>Name</th><th scope=col>Age</th><th scope=col>Gender</th><th scope=col>Background</th><th scope=col>Python</th><th scope=col>Machine.Learning</th></tr>\n",
              "\t<tr><th></th><th scope=col>&lt;chr&gt;</th><th scope=col>&lt;chr&gt;</th><th scope=col>&lt;int&gt;</th><th scope=col>&lt;chr&gt;</th><th scope=col>&lt;chr&gt;</th><th scope=col>&lt;int&gt;</th><th scope=col>&lt;int&gt;</th></tr>\n",
              "</thead>\n",
              "<tbody>\n",
              "\t<tr><th scope=row>1</th><td>Rank 1</td><td>Ravi     </td><td>23</td><td>Male  </td><td>Tech    </td><td>89</td><td>95</td></tr>\n",
              "\t<tr><th scope=row>2</th><td>Rank 2</td><td>Chandni  </td><td>22</td><td>Female</td><td>Non-Tech</td><td>78</td><td>83</td></tr>\n",
              "\t<tr><th scope=row>3</th><td>Rank 3</td><td>Gyanesh  </td><td>25</td><td>Male  </td><td>Tech    </td><td>70</td><td>80</td></tr>\n",
              "\t<tr><th scope=row>4</th><td>Rank 4</td><td>Rahul    </td><td>22</td><td>Male  </td><td>Tech    </td><td>68</td><td>75</td></tr>\n",
              "\t<tr><th scope=row>5</th><td>Rank 5</td><td>Kartik   </td><td>23</td><td>Male  </td><td>Tech    </td><td>60</td><td>70</td></tr>\n",
              "\t<tr><th scope=row>6</th><td>Rank 6</td><td>Pratiksha</td><td>24</td><td>Female</td><td>Non-Tech</td><td>58</td><td>55</td></tr>\n",
              "</tbody>\n",
              "</table>\n"
            ],
            "text/markdown": "\nA data.frame: 6 × 7\n\n| <!--/--> | Rank &lt;chr&gt; | Name &lt;chr&gt; | Age &lt;int&gt; | Gender &lt;chr&gt; | Background &lt;chr&gt; | Python &lt;int&gt; | Machine.Learning &lt;int&gt; |\n|---|---|---|---|---|---|---|---|\n| 1 | Rank 1 | Ravi      | 23 | Male   | Tech     | 89 | 95 |\n| 2 | Rank 2 | Chandni   | 22 | Female | Non-Tech | 78 | 83 |\n| 3 | Rank 3 | Gyanesh   | 25 | Male   | Tech     | 70 | 80 |\n| 4 | Rank 4 | Rahul     | 22 | Male   | Tech     | 68 | 75 |\n| 5 | Rank 5 | Kartik    | 23 | Male   | Tech     | 60 | 70 |\n| 6 | Rank 6 | Pratiksha | 24 | Female | Non-Tech | 58 | 55 |\n\n",
            "text/latex": "A data.frame: 6 × 7\n\\begin{tabular}{r|lllllll}\n  & Rank & Name & Age & Gender & Background & Python & Machine.Learning\\\\\n  & <chr> & <chr> & <int> & <chr> & <chr> & <int> & <int>\\\\\n\\hline\n\t1 & Rank 1 & Ravi      & 23 & Male   & Tech     & 89 & 95\\\\\n\t2 & Rank 2 & Chandni   & 22 & Female & Non-Tech & 78 & 83\\\\\n\t3 & Rank 3 & Gyanesh   & 25 & Male   & Tech     & 70 & 80\\\\\n\t4 & Rank 4 & Rahul     & 22 & Male   & Tech     & 68 & 75\\\\\n\t5 & Rank 5 & Kartik    & 23 & Male   & Tech     & 60 & 70\\\\\n\t6 & Rank 6 & Pratiksha & 24 & Female & Non-Tech & 58 & 55\\\\\n\\end{tabular}\n",
            "text/plain": [
              "  Rank   Name      Age Gender Background Python Machine.Learning\n",
              "1 Rank 1 Ravi      23  Male   Tech       89     95              \n",
              "2 Rank 2 Chandni   22  Female Non-Tech   78     83              \n",
              "3 Rank 3 Gyanesh   25  Male   Tech       70     80              \n",
              "4 Rank 4 Rahul     22  Male   Tech       68     75              \n",
              "5 Rank 5 Kartik    23  Male   Tech       60     70              \n",
              "6 Rank 6 Pratiksha 24  Female Non-Tech   58     55              "
            ]
          },
          "metadata": {}
        }
      ]
    },
    {
      "cell_type": "markdown",
      "source": [
        "**To Get Last Row**"
      ],
      "metadata": {
        "id": "teVzNWjn_0TE"
      }
    },
    {
      "cell_type": "code",
      "source": [
        "tail(data,n=1)"
      ],
      "metadata": {
        "colab": {
          "base_uri": "https://localhost:8080/",
          "height": 129
        },
        "id": "1LpV3AK37a7g",
        "outputId": "bdffd3de-d43e-4d85-e640-a5d40d2ac398"
      },
      "execution_count": 11,
      "outputs": [
        {
          "output_type": "display_data",
          "data": {
            "text/html": [
              "<table class=\"dataframe\">\n",
              "<caption>A data.frame: 1 × 7</caption>\n",
              "<thead>\n",
              "\t<tr><th></th><th scope=col>Rank</th><th scope=col>Name</th><th scope=col>Age</th><th scope=col>Gender</th><th scope=col>Background</th><th scope=col>Python</th><th scope=col>Machine.Learning</th></tr>\n",
              "\t<tr><th></th><th scope=col>&lt;chr&gt;</th><th scope=col>&lt;chr&gt;</th><th scope=col>&lt;int&gt;</th><th scope=col>&lt;chr&gt;</th><th scope=col>&lt;chr&gt;</th><th scope=col>&lt;int&gt;</th><th scope=col>&lt;int&gt;</th></tr>\n",
              "</thead>\n",
              "<tbody>\n",
              "\t<tr><th scope=row>10</th><td>Rank 10</td><td>Mangal</td><td>22</td><td>Male</td><td>Non-Tech</td><td>45</td><td>46</td></tr>\n",
              "</tbody>\n",
              "</table>\n"
            ],
            "text/markdown": "\nA data.frame: 1 × 7\n\n| <!--/--> | Rank &lt;chr&gt; | Name &lt;chr&gt; | Age &lt;int&gt; | Gender &lt;chr&gt; | Background &lt;chr&gt; | Python &lt;int&gt; | Machine.Learning &lt;int&gt; |\n|---|---|---|---|---|---|---|---|\n| 10 | Rank 10 | Mangal | 22 | Male | Non-Tech | 45 | 46 |\n\n",
            "text/latex": "A data.frame: 1 × 7\n\\begin{tabular}{r|lllllll}\n  & Rank & Name & Age & Gender & Background & Python & Machine.Learning\\\\\n  & <chr> & <chr> & <int> & <chr> & <chr> & <int> & <int>\\\\\n\\hline\n\t10 & Rank 10 & Mangal & 22 & Male & Non-Tech & 45 & 46\\\\\n\\end{tabular}\n",
            "text/plain": [
              "   Rank    Name   Age Gender Background Python Machine.Learning\n",
              "10 Rank 10 Mangal 22  Male   Non-Tech   45     46              "
            ]
          },
          "metadata": {}
        }
      ]
    },
    {
      "cell_type": "markdown",
      "source": [
        "**To display internal structure**"
      ],
      "metadata": {
        "id": "5rbV0ZpeADnq"
      }
    },
    {
      "cell_type": "code",
      "source": [
        "str(data)"
      ],
      "metadata": {
        "colab": {
          "base_uri": "https://localhost:8080/",
          "height": 0
        },
        "id": "nvdESKbWWOfz",
        "outputId": "c58951f5-e188-44fe-ccff-42b8395e3331"
      },
      "execution_count": 5,
      "outputs": [
        {
          "output_type": "stream",
          "name": "stdout",
          "text": [
            "'data.frame':\t10 obs. of  7 variables:\n",
            " $ Rank            : chr  \"Rank 1\" \"Rank 2\" \"Rank 3\" \"Rank 4\" ...\n",
            " $ Name            : chr  \"Ravi\" \"Chandni\" \"Gyanesh\" \"Rahul\" ...\n",
            " $ Age             : int  23 22 25 22 23 24 22 21 24 22\n",
            " $ Gender          : chr  \"Male\" \"Female\" \"Male\" \"Male\" ...\n",
            " $ Background      : chr  \"Tech\" \"Non-Tech\" \"Tech\" \"Tech\" ...\n",
            " $ Python          : int  89 78 70 68 60 58 55 50 50 45\n",
            " $ Machine.Learning: int  95 83 80 75 70 55 50 50 47 46\n"
          ]
        }
      ]
    },
    {
      "cell_type": "markdown",
      "source": [
        "**To get Min value for Python**"
      ],
      "metadata": {
        "id": "uyO38lxPAKs7"
      }
    },
    {
      "cell_type": "code",
      "source": [
        "min(data$Python)"
      ],
      "metadata": {
        "id": "tvUGbKZHWOs3",
        "colab": {
          "base_uri": "https://localhost:8080/",
          "height": 34
        },
        "outputId": "5ad137a6-d665-432b-eb02-5b932c138386"
      },
      "execution_count": 7,
      "outputs": [
        {
          "output_type": "display_data",
          "data": {
            "text/html": [
              "45"
            ],
            "text/markdown": "45",
            "text/latex": "45",
            "text/plain": [
              "[1] 45"
            ]
          },
          "metadata": {}
        }
      ]
    },
    {
      "cell_type": "markdown",
      "source": [
        "**To get Max value for Python**"
      ],
      "metadata": {
        "id": "QlfqxdeYAQLH"
      }
    },
    {
      "cell_type": "code",
      "source": [
        "max(data$Python)"
      ],
      "metadata": {
        "id": "gzOlzm1dWOwB",
        "colab": {
          "base_uri": "https://localhost:8080/",
          "height": 34
        },
        "outputId": "d3134770-0d73-4ff1-fc80-5579c4f91f21"
      },
      "execution_count": 8,
      "outputs": [
        {
          "output_type": "display_data",
          "data": {
            "text/html": [
              "89"
            ],
            "text/markdown": "89",
            "text/latex": "89",
            "text/plain": [
              "[1] 89"
            ]
          },
          "metadata": {}
        }
      ]
    },
    {
      "cell_type": "markdown",
      "source": [
        "**Subsets data based on specified conditions**"
      ],
      "metadata": {
        "id": "nF2D38lLDhdM"
      }
    },
    {
      "cell_type": "markdown",
      "source": [
        "**To get value of Python greater than 70**"
      ],
      "metadata": {
        "id": "acyZ86d3AVQB"
      }
    },
    {
      "cell_type": "code",
      "source": [
        "subset(data,data$Python>70)"
      ],
      "metadata": {
        "id": "GBkzHO5XWOyZ",
        "colab": {
          "base_uri": "https://localhost:8080/",
          "height": 161
        },
        "outputId": "e65baf09-808e-4f91-bf69-d29cdf003b56"
      },
      "execution_count": 9,
      "outputs": [
        {
          "output_type": "display_data",
          "data": {
            "text/html": [
              "<table class=\"dataframe\">\n",
              "<caption>A data.frame: 2 × 7</caption>\n",
              "<thead>\n",
              "\t<tr><th></th><th scope=col>Rank</th><th scope=col>Name</th><th scope=col>Age</th><th scope=col>Gender</th><th scope=col>Background</th><th scope=col>Python</th><th scope=col>Machine.Learning</th></tr>\n",
              "\t<tr><th></th><th scope=col>&lt;chr&gt;</th><th scope=col>&lt;chr&gt;</th><th scope=col>&lt;int&gt;</th><th scope=col>&lt;chr&gt;</th><th scope=col>&lt;chr&gt;</th><th scope=col>&lt;int&gt;</th><th scope=col>&lt;int&gt;</th></tr>\n",
              "</thead>\n",
              "<tbody>\n",
              "\t<tr><th scope=row>1</th><td>Rank 1</td><td>Ravi   </td><td>23</td><td>Male  </td><td>Tech    </td><td>89</td><td>95</td></tr>\n",
              "\t<tr><th scope=row>2</th><td>Rank 2</td><td>Chandni</td><td>22</td><td>Female</td><td>Non-Tech</td><td>78</td><td>83</td></tr>\n",
              "</tbody>\n",
              "</table>\n"
            ],
            "text/markdown": "\nA data.frame: 2 × 7\n\n| <!--/--> | Rank &lt;chr&gt; | Name &lt;chr&gt; | Age &lt;int&gt; | Gender &lt;chr&gt; | Background &lt;chr&gt; | Python &lt;int&gt; | Machine.Learning &lt;int&gt; |\n|---|---|---|---|---|---|---|---|\n| 1 | Rank 1 | Ravi    | 23 | Male   | Tech     | 89 | 95 |\n| 2 | Rank 2 | Chandni | 22 | Female | Non-Tech | 78 | 83 |\n\n",
            "text/latex": "A data.frame: 2 × 7\n\\begin{tabular}{r|lllllll}\n  & Rank & Name & Age & Gender & Background & Python & Machine.Learning\\\\\n  & <chr> & <chr> & <int> & <chr> & <chr> & <int> & <int>\\\\\n\\hline\n\t1 & Rank 1 & Ravi    & 23 & Male   & Tech     & 89 & 95\\\\\n\t2 & Rank 2 & Chandni & 22 & Female & Non-Tech & 78 & 83\\\\\n\\end{tabular}\n",
            "text/plain": [
              "  Rank   Name    Age Gender Background Python Machine.Learning\n",
              "1 Rank 1 Ravi    23  Male   Tech       89     95              \n",
              "2 Rank 2 Chandni 22  Female Non-Tech   78     83              "
            ]
          },
          "metadata": {}
        }
      ]
    },
    {
      "cell_type": "markdown",
      "source": [
        "**To get value of Machine.Learning greater than 70**"
      ],
      "metadata": {
        "id": "gnA9AtxFAmKM"
      }
    },
    {
      "cell_type": "code",
      "source": [
        "subset(data,data$Machine.Learning>70)"
      ],
      "metadata": {
        "id": "ST-8SSs-WO1v",
        "colab": {
          "base_uri": "https://localhost:8080/",
          "height": 223
        },
        "outputId": "b7014e83-48cf-4d5d-baa2-fa7ccf847f2a"
      },
      "execution_count": 12,
      "outputs": [
        {
          "output_type": "display_data",
          "data": {
            "text/html": [
              "<table class=\"dataframe\">\n",
              "<caption>A data.frame: 4 × 7</caption>\n",
              "<thead>\n",
              "\t<tr><th></th><th scope=col>Rank</th><th scope=col>Name</th><th scope=col>Age</th><th scope=col>Gender</th><th scope=col>Background</th><th scope=col>Python</th><th scope=col>Machine.Learning</th></tr>\n",
              "\t<tr><th></th><th scope=col>&lt;chr&gt;</th><th scope=col>&lt;chr&gt;</th><th scope=col>&lt;int&gt;</th><th scope=col>&lt;chr&gt;</th><th scope=col>&lt;chr&gt;</th><th scope=col>&lt;int&gt;</th><th scope=col>&lt;int&gt;</th></tr>\n",
              "</thead>\n",
              "<tbody>\n",
              "\t<tr><th scope=row>1</th><td>Rank 1</td><td>Ravi   </td><td>23</td><td>Male  </td><td>Tech    </td><td>89</td><td>95</td></tr>\n",
              "\t<tr><th scope=row>2</th><td>Rank 2</td><td>Chandni</td><td>22</td><td>Female</td><td>Non-Tech</td><td>78</td><td>83</td></tr>\n",
              "\t<tr><th scope=row>3</th><td>Rank 3</td><td>Gyanesh</td><td>25</td><td>Male  </td><td>Tech    </td><td>70</td><td>80</td></tr>\n",
              "\t<tr><th scope=row>4</th><td>Rank 4</td><td>Rahul  </td><td>22</td><td>Male  </td><td>Tech    </td><td>68</td><td>75</td></tr>\n",
              "</tbody>\n",
              "</table>\n"
            ],
            "text/markdown": "\nA data.frame: 4 × 7\n\n| <!--/--> | Rank &lt;chr&gt; | Name &lt;chr&gt; | Age &lt;int&gt; | Gender &lt;chr&gt; | Background &lt;chr&gt; | Python &lt;int&gt; | Machine.Learning &lt;int&gt; |\n|---|---|---|---|---|---|---|---|\n| 1 | Rank 1 | Ravi    | 23 | Male   | Tech     | 89 | 95 |\n| 2 | Rank 2 | Chandni | 22 | Female | Non-Tech | 78 | 83 |\n| 3 | Rank 3 | Gyanesh | 25 | Male   | Tech     | 70 | 80 |\n| 4 | Rank 4 | Rahul   | 22 | Male   | Tech     | 68 | 75 |\n\n",
            "text/latex": "A data.frame: 4 × 7\n\\begin{tabular}{r|lllllll}\n  & Rank & Name & Age & Gender & Background & Python & Machine.Learning\\\\\n  & <chr> & <chr> & <int> & <chr> & <chr> & <int> & <int>\\\\\n\\hline\n\t1 & Rank 1 & Ravi    & 23 & Male   & Tech     & 89 & 95\\\\\n\t2 & Rank 2 & Chandni & 22 & Female & Non-Tech & 78 & 83\\\\\n\t3 & Rank 3 & Gyanesh & 25 & Male   & Tech     & 70 & 80\\\\\n\t4 & Rank 4 & Rahul   & 22 & Male   & Tech     & 68 & 75\\\\\n\\end{tabular}\n",
            "text/plain": [
              "  Rank   Name    Age Gender Background Python Machine.Learning\n",
              "1 Rank 1 Ravi    23  Male   Tech       89     95              \n",
              "2 Rank 2 Chandni 22  Female Non-Tech   78     83              \n",
              "3 Rank 3 Gyanesh 25  Male   Tech       70     80              \n",
              "4 Rank 4 Rahul   22  Male   Tech       68     75              "
            ]
          },
          "metadata": {}
        }
      ]
    },
    {
      "cell_type": "markdown",
      "source": [
        "**To get summary of dataset**"
      ],
      "metadata": {
        "id": "uUI0PvJkAw7z"
      }
    },
    {
      "cell_type": "code",
      "source": [
        "summary(data)"
      ],
      "metadata": {
        "colab": {
          "base_uri": "https://localhost:8080/",
          "height": 260
        },
        "id": "-pT4T39v6K-C",
        "outputId": "6ab242ca-f9b0-4438-b620-5fef618eaf22"
      },
      "execution_count": 13,
      "outputs": [
        {
          "output_type": "display_data",
          "data": {
            "text/plain": [
              "     Rank               Name                Age           Gender         \n",
              " Length:10          Length:10          Min.   :21.00   Length:10         \n",
              " Class :character   Class :character   1st Qu.:22.00   Class :character  \n",
              " Mode  :character   Mode  :character   Median :22.50   Mode  :character  \n",
              "                                       Mean   :22.80                     \n",
              "                                       3rd Qu.:23.75                     \n",
              "                                       Max.   :25.00                     \n",
              "  Background            Python      Machine.Learning\n",
              " Length:10          Min.   :45.00   Min.   :46.00   \n",
              " Class :character   1st Qu.:51.25   1st Qu.:50.00   \n",
              " Mode  :character   Median :59.00   Median :62.50   \n",
              "                    Mean   :62.30   Mean   :65.10   \n",
              "                    3rd Qu.:69.50   3rd Qu.:78.75   \n",
              "                    Max.   :89.00   Max.   :95.00   "
            ]
          },
          "metadata": {}
        }
      ]
    },
    {
      "cell_type": "markdown",
      "source": [
        "**To get 1st Column**"
      ],
      "metadata": {
        "id": "sfeA7bqLA8qc"
      }
    },
    {
      "cell_type": "code",
      "source": [
        "data[1]"
      ],
      "metadata": {
        "colab": {
          "base_uri": "https://localhost:8080/",
          "height": 446
        },
        "id": "0jTqU9J16LAn",
        "outputId": "4205bab2-7158-4c48-df12-e76136aef90c"
      },
      "execution_count": 15,
      "outputs": [
        {
          "output_type": "display_data",
          "data": {
            "text/html": [
              "<table class=\"dataframe\">\n",
              "<caption>A data.frame: 10 × 1</caption>\n",
              "<thead>\n",
              "\t<tr><th scope=col>Rank</th></tr>\n",
              "\t<tr><th scope=col>&lt;chr&gt;</th></tr>\n",
              "</thead>\n",
              "<tbody>\n",
              "\t<tr><td>Rank 1 </td></tr>\n",
              "\t<tr><td>Rank 2 </td></tr>\n",
              "\t<tr><td>Rank 3 </td></tr>\n",
              "\t<tr><td>Rank 4 </td></tr>\n",
              "\t<tr><td>Rank 5 </td></tr>\n",
              "\t<tr><td>Rank 6 </td></tr>\n",
              "\t<tr><td>Rank 7 </td></tr>\n",
              "\t<tr><td>Rank 8 </td></tr>\n",
              "\t<tr><td>Rank 9 </td></tr>\n",
              "\t<tr><td>Rank 10</td></tr>\n",
              "</tbody>\n",
              "</table>\n"
            ],
            "text/markdown": "\nA data.frame: 10 × 1\n\n| Rank &lt;chr&gt; |\n|---|\n| Rank 1  |\n| Rank 2  |\n| Rank 3  |\n| Rank 4  |\n| Rank 5  |\n| Rank 6  |\n| Rank 7  |\n| Rank 8  |\n| Rank 9  |\n| Rank 10 |\n\n",
            "text/latex": "A data.frame: 10 × 1\n\\begin{tabular}{l}\n Rank\\\\\n <chr>\\\\\n\\hline\n\t Rank 1 \\\\\n\t Rank 2 \\\\\n\t Rank 3 \\\\\n\t Rank 4 \\\\\n\t Rank 5 \\\\\n\t Rank 6 \\\\\n\t Rank 7 \\\\\n\t Rank 8 \\\\\n\t Rank 9 \\\\\n\t Rank 10\\\\\n\\end{tabular}\n",
            "text/plain": [
              "   Rank   \n",
              "1  Rank 1 \n",
              "2  Rank 2 \n",
              "3  Rank 3 \n",
              "4  Rank 4 \n",
              "5  Rank 5 \n",
              "6  Rank 6 \n",
              "7  Rank 7 \n",
              "8  Rank 8 \n",
              "9  Rank 9 \n",
              "10 Rank 10"
            ]
          },
          "metadata": {}
        }
      ]
    },
    {
      "cell_type": "markdown",
      "source": [
        "**To get first 3 Column**"
      ],
      "metadata": {
        "id": "VCGKUf5EBIXM"
      }
    },
    {
      "cell_type": "code",
      "source": [
        "data[1:3]"
      ],
      "metadata": {
        "colab": {
          "base_uri": "https://localhost:8080/",
          "height": 411
        },
        "id": "FYvbgMpz6LDW",
        "outputId": "1bce72c3-52a7-4879-dff7-f0af1ee4f12a"
      },
      "execution_count": 16,
      "outputs": [
        {
          "output_type": "display_data",
          "data": {
            "text/html": [
              "<table class=\"dataframe\">\n",
              "<caption>A data.frame: 10 × 3</caption>\n",
              "<thead>\n",
              "\t<tr><th scope=col>Rank</th><th scope=col>Name</th><th scope=col>Age</th></tr>\n",
              "\t<tr><th scope=col>&lt;chr&gt;</th><th scope=col>&lt;chr&gt;</th><th scope=col>&lt;int&gt;</th></tr>\n",
              "</thead>\n",
              "<tbody>\n",
              "\t<tr><td>Rank 1 </td><td>Ravi     </td><td>23</td></tr>\n",
              "\t<tr><td>Rank 2 </td><td>Chandni  </td><td>22</td></tr>\n",
              "\t<tr><td>Rank 3 </td><td>Gyanesh  </td><td>25</td></tr>\n",
              "\t<tr><td>Rank 4 </td><td>Rahul    </td><td>22</td></tr>\n",
              "\t<tr><td>Rank 5 </td><td>Kartik   </td><td>23</td></tr>\n",
              "\t<tr><td>Rank 6 </td><td>Pratiksha</td><td>24</td></tr>\n",
              "\t<tr><td>Rank 7 </td><td>Maya     </td><td>22</td></tr>\n",
              "\t<tr><td>Rank 8 </td><td>Shani    </td><td>21</td></tr>\n",
              "\t<tr><td>Rank 9 </td><td>Neelam   </td><td>24</td></tr>\n",
              "\t<tr><td>Rank 10</td><td>Mangal   </td><td>22</td></tr>\n",
              "</tbody>\n",
              "</table>\n"
            ],
            "text/markdown": "\nA data.frame: 10 × 3\n\n| Rank &lt;chr&gt; | Name &lt;chr&gt; | Age &lt;int&gt; |\n|---|---|---|\n| Rank 1  | Ravi      | 23 |\n| Rank 2  | Chandni   | 22 |\n| Rank 3  | Gyanesh   | 25 |\n| Rank 4  | Rahul     | 22 |\n| Rank 5  | Kartik    | 23 |\n| Rank 6  | Pratiksha | 24 |\n| Rank 7  | Maya      | 22 |\n| Rank 8  | Shani     | 21 |\n| Rank 9  | Neelam    | 24 |\n| Rank 10 | Mangal    | 22 |\n\n",
            "text/latex": "A data.frame: 10 × 3\n\\begin{tabular}{lll}\n Rank & Name & Age\\\\\n <chr> & <chr> & <int>\\\\\n\\hline\n\t Rank 1  & Ravi      & 23\\\\\n\t Rank 2  & Chandni   & 22\\\\\n\t Rank 3  & Gyanesh   & 25\\\\\n\t Rank 4  & Rahul     & 22\\\\\n\t Rank 5  & Kartik    & 23\\\\\n\t Rank 6  & Pratiksha & 24\\\\\n\t Rank 7  & Maya      & 22\\\\\n\t Rank 8  & Shani     & 21\\\\\n\t Rank 9  & Neelam    & 24\\\\\n\t Rank 10 & Mangal    & 22\\\\\n\\end{tabular}\n",
            "text/plain": [
              "   Rank    Name      Age\n",
              "1  Rank 1  Ravi      23 \n",
              "2  Rank 2  Chandni   22 \n",
              "3  Rank 3  Gyanesh   25 \n",
              "4  Rank 4  Rahul     22 \n",
              "5  Rank 5  Kartik    23 \n",
              "6  Rank 6  Pratiksha 24 \n",
              "7  Rank 7  Maya      22 \n",
              "8  Rank 8  Shani     21 \n",
              "9  Rank 9  Neelam    24 \n",
              "10 Rank 10 Mangal    22 "
            ]
          },
          "metadata": {}
        }
      ]
    },
    {
      "cell_type": "markdown",
      "source": [
        "**To get Specific row & column of data**"
      ],
      "metadata": {
        "id": "UtAtNQM6BeBs"
      }
    },
    {
      "cell_type": "code",
      "source": [
        "data[1:3,1:3] #rowstart:rowend,colstart:colend"
      ],
      "metadata": {
        "colab": {
          "base_uri": "https://localhost:8080/",
          "height": 192
        },
        "id": "KP6EpOmC6LGu",
        "outputId": "c42441f4-b1f3-4f38-9263-2c52d07d35c6"
      },
      "execution_count": 17,
      "outputs": [
        {
          "output_type": "display_data",
          "data": {
            "text/html": [
              "<table class=\"dataframe\">\n",
              "<caption>A data.frame: 3 × 3</caption>\n",
              "<thead>\n",
              "\t<tr><th></th><th scope=col>Rank</th><th scope=col>Name</th><th scope=col>Age</th></tr>\n",
              "\t<tr><th></th><th scope=col>&lt;chr&gt;</th><th scope=col>&lt;chr&gt;</th><th scope=col>&lt;int&gt;</th></tr>\n",
              "</thead>\n",
              "<tbody>\n",
              "\t<tr><th scope=row>1</th><td>Rank 1</td><td>Ravi   </td><td>23</td></tr>\n",
              "\t<tr><th scope=row>2</th><td>Rank 2</td><td>Chandni</td><td>22</td></tr>\n",
              "\t<tr><th scope=row>3</th><td>Rank 3</td><td>Gyanesh</td><td>25</td></tr>\n",
              "</tbody>\n",
              "</table>\n"
            ],
            "text/markdown": "\nA data.frame: 3 × 3\n\n| <!--/--> | Rank &lt;chr&gt; | Name &lt;chr&gt; | Age &lt;int&gt; |\n|---|---|---|---|\n| 1 | Rank 1 | Ravi    | 23 |\n| 2 | Rank 2 | Chandni | 22 |\n| 3 | Rank 3 | Gyanesh | 25 |\n\n",
            "text/latex": "A data.frame: 3 × 3\n\\begin{tabular}{r|lll}\n  & Rank & Name & Age\\\\\n  & <chr> & <chr> & <int>\\\\\n\\hline\n\t1 & Rank 1 & Ravi    & 23\\\\\n\t2 & Rank 2 & Chandni & 22\\\\\n\t3 & Rank 3 & Gyanesh & 25\\\\\n\\end{tabular}\n",
            "text/plain": [
              "  Rank   Name    Age\n",
              "1 Rank 1 Ravi    23 \n",
              "2 Rank 2 Chandni 22 \n",
              "3 Rank 3 Gyanesh 25 "
            ]
          },
          "metadata": {}
        }
      ]
    },
    {
      "cell_type": "markdown",
      "source": [
        "**Plotting bar chart**"
      ],
      "metadata": {
        "id": "BDhOA2NeHkw5"
      }
    },
    {
      "cell_type": "code",
      "source": [
        "barplot(data$Machine.Learning,\n",
        "        names.arg = rownames(data),\n",
        "        main = \"Bar Chart: Marks in Machine Learning \",\n",
        "        xlab = \"Ranks\",\n",
        "        ylab = \"Marks\",\n",
        "        col = \"green\")"
      ],
      "metadata": {
        "colab": {
          "base_uri": "https://localhost:8080/",
          "height": 437
        },
        "id": "68LyIEw6G2y7",
        "outputId": "fb745d66-5048-4fb4-a04f-57d7d7af239f"
      },
      "execution_count": 33,
      "outputs": [
        {
          "output_type": "display_data",
          "data": {
            "text/plain": [
              "Plot with title “Bar Chart: Marks in Machine Learning ”"
            ],
            "image/png": "[encoded data removed]"
          },
          "metadata": {
            "image/png": {
              "width": 420,
              "height": 420
            }
          }
        }
      ]
    }
  ]
}